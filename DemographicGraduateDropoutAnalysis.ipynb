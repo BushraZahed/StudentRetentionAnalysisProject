{
 "cells": [
  {
   "cell_type": "markdown",
   "id": "a838f318",
   "metadata": {},
   "source": [
    "## Research Questions\n",
    "1. \"Is there a significant difference in the proportion of male and female students who drop out of the program?\"\n",
    "2. \"Is there a significant difference in the marital status between drop out students and graduated students?\"\n",
    "3. \"How does a student's demographic background and academic performance impact their likelihood of being a scholarship holder?\"\n",
    "\n",
    "## Skills Covered\n",
    "Data analysis, Python libraries, Pandas, T-Test, Statiscal Summary (EDA), Data visualization"
   ]
  },
  {
   "cell_type": "markdown",
   "id": "6620b816",
   "metadata": {},
   "source": [
    "## 1. \"Is there a significant difference in the proportion of male and female students who drop out of the program?\"\n",
    "\n",
    "To answer this question, we can perform a hypothesis test using a chi-squared test for independence.\n"
   ]
  },
  {
   "cell_type": "code",
   "execution_count": 26,
   "id": "67834576",
   "metadata": {},
   "outputs": [
    {
     "data": {
      "text/plain": [
       "Marital status                                      int64\n",
       "Application mode                                    int64\n",
       "Application order                                   int64\n",
       "Course                                              int64\n",
       "Daytime/evening attendance                          int64\n",
       "Previous qualification                              int64\n",
       "Nacionality                                         int64\n",
       "Mother's qualification                              int64\n",
       "Father's qualification                              int64\n",
       "Mother's occupation                                 int64\n",
       "Father's occupation                                 int64\n",
       "Displaced                                           int64\n",
       "Educational special needs                           int64\n",
       "Debtor                                              int64\n",
       "Tuition fees up to date                             int64\n",
       "Gender                                              int64\n",
       "Scholarship holder                                  int64\n",
       "Age at enrollment                                   int64\n",
       "International                                       int64\n",
       "Curricular units 1st sem (credited)                 int64\n",
       "Curricular units 1st sem (enrolled)                 int64\n",
       "Curricular units 1st sem (evaluations)              int64\n",
       "Curricular units 1st sem (approved)                 int64\n",
       "Curricular units 1st sem (grade)                  float64\n",
       "Curricular units 1st sem (without evaluations)      int64\n",
       "Curricular units 2nd sem (credited)                 int64\n",
       "Curricular units 2nd sem (enrolled)                 int64\n",
       "Curricular units 2nd sem (evaluations)              int64\n",
       "Curricular units 2nd sem (approved)                 int64\n",
       "Curricular units 2nd sem (grade)                  float64\n",
       "Curricular units 2nd sem (without evaluations)      int64\n",
       "Unemployment rate                                 float64\n",
       "Inflation rate                                    float64\n",
       "GDP                                               float64\n",
       "Target                                             object\n",
       "dtype: object"
      ]
     },
     "execution_count": 26,
     "metadata": {},
     "output_type": "execute_result"
    }
   ],
   "source": [
    "import pandas as pd\n",
    "import scipy.stats as stats\n",
    "from scipy.stats import ttest_ind\n",
    "\n",
    "# Loading the data\n",
    "df = pd.read_csv('student-dataset.csv')\n",
    "df.dtypes"
   ]
  },
  {
   "cell_type": "code",
   "execution_count": 27,
   "id": "3fcc544a",
   "metadata": {},
   "outputs": [],
   "source": [
    "# Converting 'Target' column to numeric data\n",
    "df['Target'] = pd.factorize(df['Target'])[0]  "
   ]
  },
  {
   "cell_type": "code",
   "execution_count": 28,
   "id": "27817123",
   "metadata": {},
   "outputs": [
    {
     "name": "stdout",
     "output_type": "stream",
     "text": [
      "Variance of 'marital_status' column: 0.3669293627466554\n",
      "Variance of 'gender' column: 0.22806397104729623\n"
     ]
    }
   ],
   "source": [
    "# calculating the variance of the 'marital_status' and 'gender' columns\n",
    "marital_status_var = df['Marital status'].var()\n",
    "gender_var = df['Gender'].var()\n",
    "\n",
    "print(\"Variance of 'marital_status' column:\", marital_status_var)\n",
    "print(\"Variance of 'gender' column:\", gender_var)"
   ]
  },
  {
   "cell_type": "code",
   "execution_count": 29,
   "id": "0e59804a",
   "metadata": {},
   "outputs": [
    {
     "name": "stdout",
     "output_type": "stream",
     "text": [
      "T-test results:\n",
      "t-statistic: 15.19426938518856\n",
      "p-value: 4.230813111325359e-50\n"
     ]
    }
   ],
   "source": [
    "dropout = df[df['Target'] == 0]\n",
    "graduated = df[df['Target'] == 1]\n",
    "\n",
    "# Conducting the t-test on the marital status column\n",
    "t_stat, p_val = ttest_ind(dropout['Gender'], graduated['Gender'], equal_var=False)\n",
    "\n",
    "# Printing the results\n",
    "print(\"T-test results:\")\n",
    "print(\"t-statistic:\", t_stat)\n",
    "print(\"p-value:\", p_val)\n",
    "\n"
   ]
  },
  {
   "cell_type": "markdown",
   "id": "d7be7a6f",
   "metadata": {},
   "source": [
    "## 2.\"Is there a significant difference in the marital status between drop out students and graduated students?\"\n",
    "\n",
    "To answer this question, we can use the same dataset and compare the marital status between the two groups. Here's the code to do that:\n"
   ]
  },
  {
   "cell_type": "code",
   "execution_count": 30,
   "id": "6ab3d1e4",
   "metadata": {},
   "outputs": [],
   "source": [
    "import pandas as pd\n",
    "from scipy.stats import ttest_ind"
   ]
  },
  {
   "cell_type": "code",
   "execution_count": 31,
   "id": "3e89b39a",
   "metadata": {},
   "outputs": [
    {
     "name": "stdout",
     "output_type": "stream",
     "text": [
      "T-test results:\n",
      "t-statistic: 5.6896978380859915\n",
      "p-value: 1.4291498368499548e-08\n"
     ]
    }
   ],
   "source": [
    "# Subsetting the data to only include drop out and graduated students\n",
    "dropout = df[df['Target'] == 0]\n",
    "graduated = df[df['Target'] == 1]\n",
    "\n",
    "# Conducting the t-test on the marital status column\n",
    "t_stat, p_val = ttest_ind(dropout['Marital status'], graduated['Marital status'], equal_var=False)\n",
    "\n",
    "# Printing the results\n",
    "print(\"T-test results:\")\n",
    "print(\"t-statistic:\", t_stat)\n",
    "print(\"p-value:\", p_val)\n",
    "\n"
   ]
  },
  {
   "cell_type": "markdown",
   "id": "d1e36ec9",
   "metadata": {},
   "source": [
    "In statistics, the t-test is used to compare the means of two groups and determine whether there is a significant difference between them. When the variances of the two groups are not equal, the ttest_ind() function in Python can be used with the equal_var=False parameter to perform a Welch's t-test, which does not assume equal variances.\n",
    "\n",
    "In the first analysis, we want to determine whether there is a significant difference in the proportion of male and female students who drop out of the program. We can use the ttest_ind() function to compare the proportions of males and females who drop out of the program. The result of the t-test shows a t-statistic of 15.19426938518856 and a p-value of 4.230813111325359e-50. Since the p-value is less than the significance level of 0.05, we can reject the null hypothesis that the proportions of males and females who drop out of the program are the same. This indicates that there is a significant difference in the proportion of males and females who drop out of the program.\n",
    "\n",
    "In the second analysis, we want to determine whether there is a significant difference in the marital status between drop out students and graduated students. We can use the ttest_ind() function to compare the marital status of the two groups. The result of the t-test shows a t-statistic of 5.6896978380859915 and a p-value of 1.4291498368499548e-08. Since the p-value is less than the significance level of 0.05, we can reject the null hypothesis that the marital status of drop out students and graduated students are the same. This indicates that there is a significant difference in the marital status between drop out students and graduated students."
   ]
  },
  {
   "cell_type": "markdown",
   "id": "117edfa4",
   "metadata": {},
   "source": [
    "## 3. \"How does a student's demographic background and academic performance impact their likelihood of being a scholarship holder?\""
   ]
  },
  {
   "cell_type": "code",
   "execution_count": 32,
   "id": "600fa93a",
   "metadata": {},
   "outputs": [],
   "source": [
    "import pandas as pd\n",
    "import matplotlib.pyplot as plt\n",
    "import seaborn as sns"
   ]
  },
  {
   "cell_type": "code",
   "execution_count": 33,
   "id": "1f198412",
   "metadata": {},
   "outputs": [],
   "source": [
    "# Filtering the data to only include scholarship holders\n",
    "scholarship_holders = df[df['Scholarship holder'] == 1]"
   ]
  },
  {
   "cell_type": "code",
   "execution_count": 39,
   "id": "f23d70ed",
   "metadata": {},
   "outputs": [
    {
     "name": "stdout",
     "output_type": "stream",
     "text": [
      "Distribution of Age at enrollment for Scholarship holders (x=1):\n",
      "count    1099.000000\n",
      "mean       20.758872\n",
      "std         5.110714\n",
      "min        17.000000\n",
      "25%        18.000000\n",
      "50%        19.000000\n",
      "75%        20.000000\n",
      "max        53.000000\n",
      "Name: Age at enrollment, dtype: float64\n",
      "\n",
      "Distribution of Age at enrollment for Non-scholarship holders (x=0):\n",
      "count    3325.000000\n",
      "mean       24.093534\n",
      "std         8.075865\n",
      "min        17.000000\n",
      "25%        19.000000\n",
      "50%        20.000000\n",
      "75%        27.000000\n",
      "max        70.000000\n",
      "Name: Age at enrollment, dtype: float64\n"
     ]
    }
   ],
   "source": [
    "# Select the Age and Scholarship holder columns\n",
    "age_col = df['Age at enrollment']\n",
    "scholarship_col = df['Scholarship holder']\n",
    "\n",
    "# Filter the data by Scholarship holder column\n",
    "age_scholarship = age_col[scholarship_col == 1]\n",
    "age_no_scholarship = age_col[scholarship_col == 0]\n",
    "\n",
    "# Output the distributions\n",
    "print(\"Distribution of Age at enrollment for Scholarship holders (x=1):\")\n",
    "print(age_scholarship.describe())\n",
    "\n",
    "print(\"\\nDistribution of Age at enrollment for Non-scholarship holders (x=0):\")\n",
    "print(age_no_scholarship.describe())"
   ]
  },
  {
   "cell_type": "code",
   "execution_count": 36,
   "id": "5c3cd0cd",
   "metadata": {},
   "outputs": [
    {
     "data": {
      "image/png": "[encoded data removed]",
      "text/plain": [
       "<Figure size 432x288 with 1 Axes>"
      ]
     },
     "metadata": {
      "needs_background": "light"
     },
     "output_type": "display_data"
    }
   ],
   "source": [
    "# Creating a boxplot of Age at enrollment for scholarship holders vs. non-scholarship holders\n",
    "sns.boxplot(x='Scholarship holder', y='Age at enrollment', data=df)\n",
    "plt.show()\n"
   ]
  },
  {
   "cell_type": "markdown",
   "id": "cabeddb3",
   "metadata": {},
   "source": [
    "The output shows the distribution of Age at enrollment for Scholarship holders (x=1) and Non-scholarship holders (x=0). The count column shows the number of samples in each group, while the mean column shows the average age at enrollment. The std column shows the standard deviation of the age at enrollment for each group, which is a measure of the spread of the data. The min and max columns show the minimum and maximum age at enrollment for each group, while the 25th, 50th (median), and 75th percentiles show the values at which 25%, 50%, and 75% of the data lie below, respectively.\n",
    "\n",
    "The output indicates that the Scholarship holders have a lower mean age and less variability in age compared to Non-scholarship holders. A larger proportion of Non-scholarship holders are older than 25 at enrollment, while a larger proportion of Scholarship holders are between the ages of 18-20 at enrollment. The summary statistics provide a general idea of the central tendency, dispersion, and range of the data, but further analysis may be necessary for more definitive conclusions.\n",
    "\n",
    "These summary statistics give an idea of the central tendency, dispersion, and range of Age at enrollment for both Scholarship and Non-scholarship holders. However, it is important to note that these statistics are based on a sample of the data, and may not perfectly represent the population. Further analysis may be required to draw more definitive conclusions."
   ]
  },
  {
   "cell_type": "code",
   "execution_count": null,
   "id": "d5afa28f",
   "metadata": {},
   "outputs": [],
   "source": []
  },
  {
   "cell_type": "code",
   "execution_count": null,
   "id": "9c862d82",
   "metadata": {},
   "outputs": [],
   "source": []
  }
 ],
 "metadata": {
  "kernelspec": {
   "display_name": "Python 3 (ipykernel)",
   "language": "python",
   "name": "python3"
  },
  "language_info": {
   "codemirror_mode": {
    "name": "ipython",
    "version": 3
   },
   "file_extension": ".py",
   "mimetype": "text/x-python",
   "name": "python",
   "nbconvert_exporter": "python",
   "pygments_lexer": "ipython3",
   "version": "3.8.8"
  }
 },
 "nbformat": 4,
 "nbformat_minor": 5
}
