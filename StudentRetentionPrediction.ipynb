{
 "cells": [
  {
   "cell_type": "markdown",
   "id": "1703e225",
   "metadata": {},
   "source": [
    "## Predicting students' dropout and academic success to Investigate the Impact of Social and Economic Factors"
   ]
  },
  {
   "cell_type": "markdown",
   "id": "697c13f7",
   "metadata": {},
   "source": [
    "### About the dataset\n",
    "This dataset provides a comprehensive view of students enrolled in various undergraduate degrees offered at a higher education institution. It includes demographic data, social-economic factors and academic performance information that can be used to analyze the possible predictors of student dropout and academic success. This dataset contains multiple disjoint databases consisting of relevant information available at the time of enrollment, such as application mode, marital status, course chosen and more. Additionally, this data can be used to estimate overall student performance at the end of each semester by assessing curricular units credited/enrolled/evaluated/approved as well as their respective grades. Finally, we have unemployment rate, inflation rate and GDP from the region which can help us further understand how economic factors play into student dropout rates or academic success outcomes. This powerful analysis tool will provide valuable insight into what motivates students to stay in school or abandon their studies for a wide range of disciplines such as agronomy, design, education nursing journalism management social service or technologies\n",
    "\n",
    "reference : https://www.kaggle.com/datasets/thedevastator/higher-education-predictors-of-student-retention\n",
    "\n",
    "### Research Question Addressed\n",
    "Using this dataset, researchers can investigate:\n",
    "\n",
    "1. Which specific predictive factors are linked with student dropout or completion?\n",
    "2. Predict how many will drop out or graduate among the enrolled students?\n",
    "\n",
    "For example, researchers could explore if there any demographic characteristics (e.g., gender, age at enrollment etc.) or immersion conditions (e.g., unemployment rate in region) are associated with higher student success rates, as well as understand what implications poverty has for educational outcomes.\n",
    "\n",
    "### Goal of the Project:\n",
    "Prediction of Student Retention: This dataset can be used to develop predictive models that can identify student risk factors for dropout and take early interventions to improve student retention rate.\n",
    "\n",
    "### Acknowledgement\n",
    "M. V. Martins, D. Tolledo, J. Machado, L. M. T. Baptista, V. Realinho. (2021) \"Early prediction of student’s performance in higher education: a case study\" Trends and Applications in Information Systems and Technologies, vol.1, in Advances in Intelligent Systems and Computing series. Springer. DOI: 10.1007/978-3-030-72657-7_16\n",
    "\n",
    "<h2>Skills covered</h2>\n",
    "Pandas,Matplotlib, Seaborn, Data Visualization, Data Cleaning, Exploratory Data Analysis,  Supervised Learning, Feature Selection, Regression problem, Classification problem, Machine Learning: Logistic Regression Model and Random Forest Classifier Model, Confusion Matrix, Chi-Square Test"
   ]
  },
  {
   "cell_type": "markdown",
   "id": "c3acd188",
   "metadata": {},
   "source": [
    "### Data Definition\n",
    "About this file\n",
    "This dataset contains data from a higher education institution on various variables related to undergraduate students, including demographics, social-economic factors, and academic performance, to investigate the impact of these factors on student dropout and academic success\n",
    "\n",
    "<p>Marital status: The marital status of the student. (Categorical)</p>\n",
    "<p>Application mode: The method of application used by the student. (Categorical)</p>\n",
    "<p>Application order: The order in which the student applied. (Numerical)</p>\n",
    "<p>Course: The course taken by the student. (Categorical)</p>\n",
    "<p>Daytime/evening attendance: Whether the student attends classes during the day or in the evening. (Categorical)</p>\n",
    "<p>Previous qualification: The qualification obtained by the student before enrolling in higher education. (Categorical)</p>\n",
    "<p>Nacionality: The nationality of the student. (Categorical)</p>\n",
    "<p>Mother's qualification: The qualification of the student's mother. (Categorical)</p>\n",
    "<p>Father's qualification: The qualification of the student's father. (Categorical)</p>\n",
    "<p>Mother's occupation: The occupation of the student's mother. (Categorical)</p>\n",
    "<p>Father's occupation: The occupation of the student's father. (Categorical)</p>\n",
    "<p>Displaced: Whether the student is a displaced person. (Categorical)</p>\n",
    "<p>Educational special needs: Whether the student has any special educational needs. (Categorical)</p>\n",
    "<p>Debtor: Whether the student is a debtor. (Categorical)</p>\n",
    "<p>Tuition fees up to date: Whether the student's tuition fees are up to date. (Categorical)</p>\n",
    "<p>Gender: The gender of the student. (Categorical)</p>\n",
    "<p>Scholarship holder: Whether the student is a scholarship holder. (Categorical)</p>\n",
    "<p>Age at enrollment: The age of the student at the time of enrollment. (Numerical) </p>\n",
    "<p>International: Whether the student is an international student. (Categorical)</p>\n",
    "<p>Curricular units 1st sem (credited): The number of curricular units credited by the student in the first semester. (Numerical)</p>\n",
    "<p>Curricular units 1st sem (enrolled): The number of curricular units enrolled by the student in the first semester. (Numerical)</p>\n",
    "<p>Curricular units 1st sem (evaluations): The number of curricular units evaluated by the student in the first semester. (Numerical)</p>\n",
    "<p>Curricular units 1st sem (approved): The number of curricular units approved by the student in the first semester. (Numerical)</p>"
   ]
  },
  {
   "cell_type": "markdown",
   "id": "baf45f54",
   "metadata": {},
   "source": [
    "## 1. Importing Librariies"
   ]
  },
  {
   "cell_type": "code",
   "execution_count": 1,
   "id": "ce09b14a",
   "metadata": {},
   "outputs": [],
   "source": [
    "import pandas as pd\n",
    "import numpy as np\n",
    "import matplotlib.pyplot as plt\n",
    "%matplotlib inline \n",
    "import seaborn as sns"
   ]
  },
  {
   "cell_type": "markdown",
   "id": "610e8abf",
   "metadata": {},
   "source": [
    "## 2. Data Loading"
   ]
  },
  {
   "cell_type": "code",
   "execution_count": 2,
   "id": "b0dca468",
   "metadata": {},
   "outputs": [
    {
     "data": {
      "text/html": [
       "<div>\n",
       "<style scoped>\n",
       "    .dataframe tbody tr th:only-of-type {\n",
       "        vertical-align: middle;\n",
       "    }\n",
       "\n",
       "    .dataframe tbody tr th {\n",
       "        vertical-align: top;\n",
       "    }\n",
       "\n",
       "    .dataframe thead th {\n",
       "        text-align: right;\n",
       "    }\n",
       "</style>\n",
       "<table border=\"1\" class=\"dataframe\">\n",
       "  <thead>\n",
       "    <tr style=\"text-align: right;\">\n",
       "      <th></th>\n",
       "      <th>Marital status</th>\n",
       "      <th>Application mode</th>\n",
       "      <th>Application order</th>\n",
       "      <th>Course</th>\n",
       "      <th>Daytime/evening attendance</th>\n",
       "      <th>Previous qualification</th>\n",
       "      <th>Nacionality</th>\n",
       "      <th>Mother's qualification</th>\n",
       "      <th>Father's qualification</th>\n",
       "      <th>Mother's occupation</th>\n",
       "      <th>...</th>\n",
       "      <th>Curricular units 2nd sem (credited)</th>\n",
       "      <th>Curricular units 2nd sem (enrolled)</th>\n",
       "      <th>Curricular units 2nd sem (evaluations)</th>\n",
       "      <th>Curricular units 2nd sem (approved)</th>\n",
       "      <th>Curricular units 2nd sem (grade)</th>\n",
       "      <th>Curricular units 2nd sem (without evaluations)</th>\n",
       "      <th>Unemployment rate</th>\n",
       "      <th>Inflation rate</th>\n",
       "      <th>GDP</th>\n",
       "      <th>Target</th>\n",
       "    </tr>\n",
       "  </thead>\n",
       "  <tbody>\n",
       "    <tr>\n",
       "      <th>0</th>\n",
       "      <td>1</td>\n",
       "      <td>8</td>\n",
       "      <td>5</td>\n",
       "      <td>2</td>\n",
       "      <td>1</td>\n",
       "      <td>1</td>\n",
       "      <td>1</td>\n",
       "      <td>13</td>\n",
       "      <td>10</td>\n",
       "      <td>6</td>\n",
       "      <td>...</td>\n",
       "      <td>0</td>\n",
       "      <td>0</td>\n",
       "      <td>0</td>\n",
       "      <td>0</td>\n",
       "      <td>0.000000</td>\n",
       "      <td>0</td>\n",
       "      <td>10.8</td>\n",
       "      <td>1.4</td>\n",
       "      <td>1.74</td>\n",
       "      <td>Dropout</td>\n",
       "    </tr>\n",
       "    <tr>\n",
       "      <th>1</th>\n",
       "      <td>1</td>\n",
       "      <td>6</td>\n",
       "      <td>1</td>\n",
       "      <td>11</td>\n",
       "      <td>1</td>\n",
       "      <td>1</td>\n",
       "      <td>1</td>\n",
       "      <td>1</td>\n",
       "      <td>3</td>\n",
       "      <td>4</td>\n",
       "      <td>...</td>\n",
       "      <td>0</td>\n",
       "      <td>6</td>\n",
       "      <td>6</td>\n",
       "      <td>6</td>\n",
       "      <td>13.666667</td>\n",
       "      <td>0</td>\n",
       "      <td>13.9</td>\n",
       "      <td>-0.3</td>\n",
       "      <td>0.79</td>\n",
       "      <td>Graduate</td>\n",
       "    </tr>\n",
       "    <tr>\n",
       "      <th>2</th>\n",
       "      <td>1</td>\n",
       "      <td>1</td>\n",
       "      <td>5</td>\n",
       "      <td>5</td>\n",
       "      <td>1</td>\n",
       "      <td>1</td>\n",
       "      <td>1</td>\n",
       "      <td>22</td>\n",
       "      <td>27</td>\n",
       "      <td>10</td>\n",
       "      <td>...</td>\n",
       "      <td>0</td>\n",
       "      <td>6</td>\n",
       "      <td>0</td>\n",
       "      <td>0</td>\n",
       "      <td>0.000000</td>\n",
       "      <td>0</td>\n",
       "      <td>10.8</td>\n",
       "      <td>1.4</td>\n",
       "      <td>1.74</td>\n",
       "      <td>Dropout</td>\n",
       "    </tr>\n",
       "    <tr>\n",
       "      <th>3</th>\n",
       "      <td>1</td>\n",
       "      <td>8</td>\n",
       "      <td>2</td>\n",
       "      <td>15</td>\n",
       "      <td>1</td>\n",
       "      <td>1</td>\n",
       "      <td>1</td>\n",
       "      <td>23</td>\n",
       "      <td>27</td>\n",
       "      <td>6</td>\n",
       "      <td>...</td>\n",
       "      <td>0</td>\n",
       "      <td>6</td>\n",
       "      <td>10</td>\n",
       "      <td>5</td>\n",
       "      <td>12.400000</td>\n",
       "      <td>0</td>\n",
       "      <td>9.4</td>\n",
       "      <td>-0.8</td>\n",
       "      <td>-3.12</td>\n",
       "      <td>Graduate</td>\n",
       "    </tr>\n",
       "    <tr>\n",
       "      <th>4</th>\n",
       "      <td>2</td>\n",
       "      <td>12</td>\n",
       "      <td>1</td>\n",
       "      <td>3</td>\n",
       "      <td>0</td>\n",
       "      <td>1</td>\n",
       "      <td>1</td>\n",
       "      <td>22</td>\n",
       "      <td>28</td>\n",
       "      <td>10</td>\n",
       "      <td>...</td>\n",
       "      <td>0</td>\n",
       "      <td>6</td>\n",
       "      <td>6</td>\n",
       "      <td>6</td>\n",
       "      <td>13.000000</td>\n",
       "      <td>0</td>\n",
       "      <td>13.9</td>\n",
       "      <td>-0.3</td>\n",
       "      <td>0.79</td>\n",
       "      <td>Graduate</td>\n",
       "    </tr>\n",
       "  </tbody>\n",
       "</table>\n",
       "<p>5 rows × 35 columns</p>\n",
       "</div>"
      ],
      "text/plain": [
       "   Marital status  Application mode  Application order  Course  \\\n",
       "0               1                 8                  5       2   \n",
       "1               1                 6                  1      11   \n",
       "2               1                 1                  5       5   \n",
       "3               1                 8                  2      15   \n",
       "4               2                12                  1       3   \n",
       "\n",
       "   Daytime/evening attendance  Previous qualification  Nacionality  \\\n",
       "0                           1                       1            1   \n",
       "1                           1                       1            1   \n",
       "2                           1                       1            1   \n",
       "3                           1                       1            1   \n",
       "4                           0                       1            1   \n",
       "\n",
       "   Mother's qualification  Father's qualification  Mother's occupation  ...  \\\n",
       "0                      13                      10                    6  ...   \n",
       "1                       1                       3                    4  ...   \n",
       "2                      22                      27                   10  ...   \n",
       "3                      23                      27                    6  ...   \n",
       "4                      22                      28                   10  ...   \n",
       "\n",
       "   Curricular units 2nd sem (credited)  Curricular units 2nd sem (enrolled)  \\\n",
       "0                                    0                                    0   \n",
       "1                                    0                                    6   \n",
       "2                                    0                                    6   \n",
       "3                                    0                                    6   \n",
       "4                                    0                                    6   \n",
       "\n",
       "   Curricular units 2nd sem (evaluations)  \\\n",
       "0                                       0   \n",
       "1                                       6   \n",
       "2                                       0   \n",
       "3                                      10   \n",
       "4                                       6   \n",
       "\n",
       "   Curricular units 2nd sem (approved)  Curricular units 2nd sem (grade)  \\\n",
       "0                                    0                          0.000000   \n",
       "1                                    6                         13.666667   \n",
       "2                                    0                          0.000000   \n",
       "3                                    5                         12.400000   \n",
       "4                                    6                         13.000000   \n",
       "\n",
       "   Curricular units 2nd sem (without evaluations)  Unemployment rate  \\\n",
       "0                                               0               10.8   \n",
       "1                                               0               13.9   \n",
       "2                                               0               10.8   \n",
       "3                                               0                9.4   \n",
       "4                                               0               13.9   \n",
       "\n",
       "   Inflation rate   GDP    Target  \n",
       "0             1.4  1.74   Dropout  \n",
       "1            -0.3  0.79  Graduate  \n",
       "2             1.4  1.74   Dropout  \n",
       "3            -0.8 -3.12  Graduate  \n",
       "4            -0.3  0.79  Graduate  \n",
       "\n",
       "[5 rows x 35 columns]"
      ]
     },
     "execution_count": 2,
     "metadata": {},
     "output_type": "execute_result"
    }
   ],
   "source": [
    "df = pd.read_csv(\"student-dataset.csv\")\n",
    "df.head()"
   ]
  },
  {
   "cell_type": "markdown",
   "id": "581bf9ae",
   "metadata": {},
   "source": [
    "## 3. Exploring the Dataset"
   ]
  },
  {
   "cell_type": "code",
   "execution_count": 3,
   "id": "559d6d02",
   "metadata": {},
   "outputs": [
    {
     "data": {
      "text/plain": [
       "(4424, 35)"
      ]
     },
     "execution_count": 3,
     "metadata": {},
     "output_type": "execute_result"
    }
   ],
   "source": [
    "df.shape"
   ]
  },
  {
   "cell_type": "code",
   "execution_count": 4,
   "id": "84ee21e1",
   "metadata": {},
   "outputs": [
    {
     "data": {
      "text/plain": [
       "Marital status                                      int64\n",
       "Application mode                                    int64\n",
       "Application order                                   int64\n",
       "Course                                              int64\n",
       "Daytime/evening attendance                          int64\n",
       "Previous qualification                              int64\n",
       "Nacionality                                         int64\n",
       "Mother's qualification                              int64\n",
       "Father's qualification                              int64\n",
       "Mother's occupation                                 int64\n",
       "Father's occupation                                 int64\n",
       "Displaced                                           int64\n",
       "Educational special needs                           int64\n",
       "Debtor                                              int64\n",
       "Tuition fees up to date                             int64\n",
       "Gender                                              int64\n",
       "Scholarship holder                                  int64\n",
       "Age at enrollment                                   int64\n",
       "International                                       int64\n",
       "Curricular units 1st sem (credited)                 int64\n",
       "Curricular units 1st sem (enrolled)                 int64\n",
       "Curricular units 1st sem (evaluations)              int64\n",
       "Curricular units 1st sem (approved)                 int64\n",
       "Curricular units 1st sem (grade)                  float64\n",
       "Curricular units 1st sem (without evaluations)      int64\n",
       "Curricular units 2nd sem (credited)                 int64\n",
       "Curricular units 2nd sem (enrolled)                 int64\n",
       "Curricular units 2nd sem (evaluations)              int64\n",
       "Curricular units 2nd sem (approved)                 int64\n",
       "Curricular units 2nd sem (grade)                  float64\n",
       "Curricular units 2nd sem (without evaluations)      int64\n",
       "Unemployment rate                                 float64\n",
       "Inflation rate                                    float64\n",
       "GDP                                               float64\n",
       "Target                                             object\n",
       "dtype: object"
      ]
     },
     "execution_count": 4,
     "metadata": {},
     "output_type": "execute_result"
    }
   ],
   "source": [
    "df.dtypes"
   ]
  },
  {
   "cell_type": "code",
   "execution_count": 5,
   "id": "5ba960e5",
   "metadata": {},
   "outputs": [
    {
     "data": {
      "text/plain": [
       "int64      29\n",
       "float64     5\n",
       "object      1\n",
       "dtype: int64"
      ]
     },
     "execution_count": 5,
     "metadata": {},
     "output_type": "execute_result"
    }
   ],
   "source": [
    "df.dtypes.groupby(df.dtypes.values).count()"
   ]
  },
  {
   "cell_type": "code",
   "execution_count": 6,
   "id": "e4a92dcc",
   "metadata": {},
   "outputs": [
    {
     "name": "stdout",
     "output_type": "stream",
     "text": [
      "<class 'pandas.core.frame.DataFrame'>\n",
      "RangeIndex: 4424 entries, 0 to 4423\n",
      "Data columns (total 35 columns):\n",
      " #   Column                                          Non-Null Count  Dtype  \n",
      "---  ------                                          --------------  -----  \n",
      " 0   Marital status                                  4424 non-null   int64  \n",
      " 1   Application mode                                4424 non-null   int64  \n",
      " 2   Application order                               4424 non-null   int64  \n",
      " 3   Course                                          4424 non-null   int64  \n",
      " 4   Daytime/evening attendance                      4424 non-null   int64  \n",
      " 5   Previous qualification                          4424 non-null   int64  \n",
      " 6   Nacionality                                     4424 non-null   int64  \n",
      " 7   Mother's qualification                          4424 non-null   int64  \n",
      " 8   Father's qualification                          4424 non-null   int64  \n",
      " 9   Mother's occupation                             4424 non-null   int64  \n",
      " 10  Father's occupation                             4424 non-null   int64  \n",
      " 11  Displaced                                       4424 non-null   int64  \n",
      " 12  Educational special needs                       4424 non-null   int64  \n",
      " 13  Debtor                                          4424 non-null   int64  \n",
      " 14  Tuition fees up to date                         4424 non-null   int64  \n",
      " 15  Gender                                          4424 non-null   int64  \n",
      " 16  Scholarship holder                              4424 non-null   int64  \n",
      " 17  Age at enrollment                               4424 non-null   int64  \n",
      " 18  International                                   4424 non-null   int64  \n",
      " 19  Curricular units 1st sem (credited)             4424 non-null   int64  \n",
      " 20  Curricular units 1st sem (enrolled)             4424 non-null   int64  \n",
      " 21  Curricular units 1st sem (evaluations)          4424 non-null   int64  \n",
      " 22  Curricular units 1st sem (approved)             4424 non-null   int64  \n",
      " 23  Curricular units 1st sem (grade)                4424 non-null   float64\n",
      " 24  Curricular units 1st sem (without evaluations)  4424 non-null   int64  \n",
      " 25  Curricular units 2nd sem (credited)             4424 non-null   int64  \n",
      " 26  Curricular units 2nd sem (enrolled)             4424 non-null   int64  \n",
      " 27  Curricular units 2nd sem (evaluations)          4424 non-null   int64  \n",
      " 28  Curricular units 2nd sem (approved)             4424 non-null   int64  \n",
      " 29  Curricular units 2nd sem (grade)                4424 non-null   float64\n",
      " 30  Curricular units 2nd sem (without evaluations)  4424 non-null   int64  \n",
      " 31  Unemployment rate                               4424 non-null   float64\n",
      " 32  Inflation rate                                  4424 non-null   float64\n",
      " 33  GDP                                             4424 non-null   float64\n",
      " 34  Target                                          4424 non-null   object \n",
      "dtypes: float64(5), int64(29), object(1)\n",
      "memory usage: 1.2+ MB\n"
     ]
    }
   ],
   "source": [
    "df.info()"
   ]
  },
  {
   "cell_type": "code",
   "execution_count": 7,
   "id": "5b6d8b2e",
   "metadata": {},
   "outputs": [
    {
     "data": {
      "text/plain": [
       "Marital status                                    0\n",
       "Application mode                                  0\n",
       "Application order                                 0\n",
       "Course                                            0\n",
       "Daytime/evening attendance                        0\n",
       "Previous qualification                            0\n",
       "Nacionality                                       0\n",
       "Mother's qualification                            0\n",
       "Father's qualification                            0\n",
       "Mother's occupation                               0\n",
       "Father's occupation                               0\n",
       "Displaced                                         0\n",
       "Educational special needs                         0\n",
       "Debtor                                            0\n",
       "Tuition fees up to date                           0\n",
       "Gender                                            0\n",
       "Scholarship holder                                0\n",
       "Age at enrollment                                 0\n",
       "International                                     0\n",
       "Curricular units 1st sem (credited)               0\n",
       "Curricular units 1st sem (enrolled)               0\n",
       "Curricular units 1st sem (evaluations)            0\n",
       "Curricular units 1st sem (approved)               0\n",
       "Curricular units 1st sem (grade)                  0\n",
       "Curricular units 1st sem (without evaluations)    0\n",
       "Curricular units 2nd sem (credited)               0\n",
       "Curricular units 2nd sem (enrolled)               0\n",
       "Curricular units 2nd sem (evaluations)            0\n",
       "Curricular units 2nd sem (approved)               0\n",
       "Curricular units 2nd sem (grade)                  0\n",
       "Curricular units 2nd sem (without evaluations)    0\n",
       "Unemployment rate                                 0\n",
       "Inflation rate                                    0\n",
       "GDP                                               0\n",
       "Target                                            0\n",
       "dtype: int64"
      ]
     },
     "execution_count": 7,
     "metadata": {},
     "output_type": "execute_result"
    }
   ],
   "source": [
    "#Checking for null\n",
    "df.isnull().sum()"
   ]
  },
  {
   "cell_type": "code",
   "execution_count": 8,
   "id": "a5ff61ce",
   "metadata": {},
   "outputs": [
    {
     "data": {
      "text/plain": [
       "4424"
      ]
     },
     "execution_count": 8,
     "metadata": {},
     "output_type": "execute_result"
    }
   ],
   "source": [
    "df.Target.count()"
   ]
  },
  {
   "cell_type": "code",
   "execution_count": 9,
   "id": "6c387e7a",
   "metadata": {},
   "outputs": [
    {
     "data": {
      "text/plain": [
       "Graduate    2209\n",
       "Dropout     1421\n",
       "Enrolled     794\n",
       "Name: Target, dtype: int64"
      ]
     },
     "execution_count": 9,
     "metadata": {},
     "output_type": "execute_result"
    }
   ],
   "source": [
    "df.Target.value_counts()"
   ]
  },
  {
   "cell_type": "code",
   "execution_count": 10,
   "id": "18b78fa4",
   "metadata": {},
   "outputs": [
    {
     "data": {
      "text/html": [
       "<div>\n",
       "<style scoped>\n",
       "    .dataframe tbody tr th:only-of-type {\n",
       "        vertical-align: middle;\n",
       "    }\n",
       "\n",
       "    .dataframe tbody tr th {\n",
       "        vertical-align: top;\n",
       "    }\n",
       "\n",
       "    .dataframe thead th {\n",
       "        text-align: right;\n",
       "    }\n",
       "</style>\n",
       "<table border=\"1\" class=\"dataframe\">\n",
       "  <thead>\n",
       "    <tr style=\"text-align: right;\">\n",
       "      <th></th>\n",
       "      <th>Marital status</th>\n",
       "      <th>Application mode</th>\n",
       "      <th>Application order</th>\n",
       "      <th>Course</th>\n",
       "      <th>Daytime/evening attendance</th>\n",
       "      <th>Previous qualification</th>\n",
       "      <th>Nacionality</th>\n",
       "      <th>Mother's qualification</th>\n",
       "      <th>Father's qualification</th>\n",
       "      <th>Mother's occupation</th>\n",
       "      <th>...</th>\n",
       "      <th>Curricular units 1st sem (without evaluations)</th>\n",
       "      <th>Curricular units 2nd sem (credited)</th>\n",
       "      <th>Curricular units 2nd sem (enrolled)</th>\n",
       "      <th>Curricular units 2nd sem (evaluations)</th>\n",
       "      <th>Curricular units 2nd sem (approved)</th>\n",
       "      <th>Curricular units 2nd sem (grade)</th>\n",
       "      <th>Curricular units 2nd sem (without evaluations)</th>\n",
       "      <th>Unemployment rate</th>\n",
       "      <th>Inflation rate</th>\n",
       "      <th>GDP</th>\n",
       "    </tr>\n",
       "  </thead>\n",
       "  <tbody>\n",
       "    <tr>\n",
       "      <th>count</th>\n",
       "      <td>4424.000000</td>\n",
       "      <td>4424.000000</td>\n",
       "      <td>4424.000000</td>\n",
       "      <td>4424.000000</td>\n",
       "      <td>4424.000000</td>\n",
       "      <td>4424.000000</td>\n",
       "      <td>4424.000000</td>\n",
       "      <td>4424.000000</td>\n",
       "      <td>4424.000000</td>\n",
       "      <td>4424.000000</td>\n",
       "      <td>...</td>\n",
       "      <td>4424.000000</td>\n",
       "      <td>4424.000000</td>\n",
       "      <td>4424.000000</td>\n",
       "      <td>4424.000000</td>\n",
       "      <td>4424.000000</td>\n",
       "      <td>4424.000000</td>\n",
       "      <td>4424.000000</td>\n",
       "      <td>4424.000000</td>\n",
       "      <td>4424.000000</td>\n",
       "      <td>4424.000000</td>\n",
       "    </tr>\n",
       "    <tr>\n",
       "      <th>mean</th>\n",
       "      <td>1.178571</td>\n",
       "      <td>6.886980</td>\n",
       "      <td>1.727848</td>\n",
       "      <td>9.899186</td>\n",
       "      <td>0.890823</td>\n",
       "      <td>2.531420</td>\n",
       "      <td>1.254521</td>\n",
       "      <td>12.322107</td>\n",
       "      <td>16.455244</td>\n",
       "      <td>7.317812</td>\n",
       "      <td>...</td>\n",
       "      <td>0.137658</td>\n",
       "      <td>0.541817</td>\n",
       "      <td>6.232143</td>\n",
       "      <td>8.063291</td>\n",
       "      <td>4.435805</td>\n",
       "      <td>10.230206</td>\n",
       "      <td>0.150316</td>\n",
       "      <td>11.566139</td>\n",
       "      <td>1.228029</td>\n",
       "      <td>0.001969</td>\n",
       "    </tr>\n",
       "    <tr>\n",
       "      <th>std</th>\n",
       "      <td>0.605747</td>\n",
       "      <td>5.298964</td>\n",
       "      <td>1.313793</td>\n",
       "      <td>4.331792</td>\n",
       "      <td>0.311897</td>\n",
       "      <td>3.963707</td>\n",
       "      <td>1.748447</td>\n",
       "      <td>9.026251</td>\n",
       "      <td>11.044800</td>\n",
       "      <td>3.997828</td>\n",
       "      <td>...</td>\n",
       "      <td>0.690880</td>\n",
       "      <td>1.918546</td>\n",
       "      <td>2.195951</td>\n",
       "      <td>3.947951</td>\n",
       "      <td>3.014764</td>\n",
       "      <td>5.210808</td>\n",
       "      <td>0.753774</td>\n",
       "      <td>2.663850</td>\n",
       "      <td>1.382711</td>\n",
       "      <td>2.269935</td>\n",
       "    </tr>\n",
       "    <tr>\n",
       "      <th>min</th>\n",
       "      <td>1.000000</td>\n",
       "      <td>1.000000</td>\n",
       "      <td>0.000000</td>\n",
       "      <td>1.000000</td>\n",
       "      <td>0.000000</td>\n",
       "      <td>1.000000</td>\n",
       "      <td>1.000000</td>\n",
       "      <td>1.000000</td>\n",
       "      <td>1.000000</td>\n",
       "      <td>1.000000</td>\n",
       "      <td>...</td>\n",
       "      <td>0.000000</td>\n",
       "      <td>0.000000</td>\n",
       "      <td>0.000000</td>\n",
       "      <td>0.000000</td>\n",
       "      <td>0.000000</td>\n",
       "      <td>0.000000</td>\n",
       "      <td>0.000000</td>\n",
       "      <td>7.600000</td>\n",
       "      <td>-0.800000</td>\n",
       "      <td>-4.060000</td>\n",
       "    </tr>\n",
       "    <tr>\n",
       "      <th>25%</th>\n",
       "      <td>1.000000</td>\n",
       "      <td>1.000000</td>\n",
       "      <td>1.000000</td>\n",
       "      <td>6.000000</td>\n",
       "      <td>1.000000</td>\n",
       "      <td>1.000000</td>\n",
       "      <td>1.000000</td>\n",
       "      <td>2.000000</td>\n",
       "      <td>3.000000</td>\n",
       "      <td>5.000000</td>\n",
       "      <td>...</td>\n",
       "      <td>0.000000</td>\n",
       "      <td>0.000000</td>\n",
       "      <td>5.000000</td>\n",
       "      <td>6.000000</td>\n",
       "      <td>2.000000</td>\n",
       "      <td>10.750000</td>\n",
       "      <td>0.000000</td>\n",
       "      <td>9.400000</td>\n",
       "      <td>0.300000</td>\n",
       "      <td>-1.700000</td>\n",
       "    </tr>\n",
       "    <tr>\n",
       "      <th>50%</th>\n",
       "      <td>1.000000</td>\n",
       "      <td>8.000000</td>\n",
       "      <td>1.000000</td>\n",
       "      <td>10.000000</td>\n",
       "      <td>1.000000</td>\n",
       "      <td>1.000000</td>\n",
       "      <td>1.000000</td>\n",
       "      <td>13.000000</td>\n",
       "      <td>14.000000</td>\n",
       "      <td>6.000000</td>\n",
       "      <td>...</td>\n",
       "      <td>0.000000</td>\n",
       "      <td>0.000000</td>\n",
       "      <td>6.000000</td>\n",
       "      <td>8.000000</td>\n",
       "      <td>5.000000</td>\n",
       "      <td>12.200000</td>\n",
       "      <td>0.000000</td>\n",
       "      <td>11.100000</td>\n",
       "      <td>1.400000</td>\n",
       "      <td>0.320000</td>\n",
       "    </tr>\n",
       "    <tr>\n",
       "      <th>75%</th>\n",
       "      <td>1.000000</td>\n",
       "      <td>12.000000</td>\n",
       "      <td>2.000000</td>\n",
       "      <td>13.000000</td>\n",
       "      <td>1.000000</td>\n",
       "      <td>1.000000</td>\n",
       "      <td>1.000000</td>\n",
       "      <td>22.000000</td>\n",
       "      <td>27.000000</td>\n",
       "      <td>10.000000</td>\n",
       "      <td>...</td>\n",
       "      <td>0.000000</td>\n",
       "      <td>0.000000</td>\n",
       "      <td>7.000000</td>\n",
       "      <td>10.000000</td>\n",
       "      <td>6.000000</td>\n",
       "      <td>13.333333</td>\n",
       "      <td>0.000000</td>\n",
       "      <td>13.900000</td>\n",
       "      <td>2.600000</td>\n",
       "      <td>1.790000</td>\n",
       "    </tr>\n",
       "    <tr>\n",
       "      <th>max</th>\n",
       "      <td>6.000000</td>\n",
       "      <td>18.000000</td>\n",
       "      <td>9.000000</td>\n",
       "      <td>17.000000</td>\n",
       "      <td>1.000000</td>\n",
       "      <td>17.000000</td>\n",
       "      <td>21.000000</td>\n",
       "      <td>29.000000</td>\n",
       "      <td>34.000000</td>\n",
       "      <td>32.000000</td>\n",
       "      <td>...</td>\n",
       "      <td>12.000000</td>\n",
       "      <td>19.000000</td>\n",
       "      <td>23.000000</td>\n",
       "      <td>33.000000</td>\n",
       "      <td>20.000000</td>\n",
       "      <td>18.571429</td>\n",
       "      <td>12.000000</td>\n",
       "      <td>16.200000</td>\n",
       "      <td>3.700000</td>\n",
       "      <td>3.510000</td>\n",
       "    </tr>\n",
       "  </tbody>\n",
       "</table>\n",
       "<p>8 rows × 34 columns</p>\n",
       "</div>"
      ],
      "text/plain": [
       "       Marital status  Application mode  Application order       Course  \\\n",
       "count     4424.000000       4424.000000        4424.000000  4424.000000   \n",
       "mean         1.178571          6.886980           1.727848     9.899186   \n",
       "std          0.605747          5.298964           1.313793     4.331792   \n",
       "min          1.000000          1.000000           0.000000     1.000000   \n",
       "25%          1.000000          1.000000           1.000000     6.000000   \n",
       "50%          1.000000          8.000000           1.000000    10.000000   \n",
       "75%          1.000000         12.000000           2.000000    13.000000   \n",
       "max          6.000000         18.000000           9.000000    17.000000   \n",
       "\n",
       "       Daytime/evening attendance  Previous qualification  Nacionality  \\\n",
       "count                 4424.000000             4424.000000  4424.000000   \n",
       "mean                     0.890823                2.531420     1.254521   \n",
       "std                      0.311897                3.963707     1.748447   \n",
       "min                      0.000000                1.000000     1.000000   \n",
       "25%                      1.000000                1.000000     1.000000   \n",
       "50%                      1.000000                1.000000     1.000000   \n",
       "75%                      1.000000                1.000000     1.000000   \n",
       "max                      1.000000               17.000000    21.000000   \n",
       "\n",
       "       Mother's qualification  Father's qualification  Mother's occupation  \\\n",
       "count             4424.000000             4424.000000          4424.000000   \n",
       "mean                12.322107               16.455244             7.317812   \n",
       "std                  9.026251               11.044800             3.997828   \n",
       "min                  1.000000                1.000000             1.000000   \n",
       "25%                  2.000000                3.000000             5.000000   \n",
       "50%                 13.000000               14.000000             6.000000   \n",
       "75%                 22.000000               27.000000            10.000000   \n",
       "max                 29.000000               34.000000            32.000000   \n",
       "\n",
       "       ...  Curricular units 1st sem (without evaluations)  \\\n",
       "count  ...                                     4424.000000   \n",
       "mean   ...                                        0.137658   \n",
       "std    ...                                        0.690880   \n",
       "min    ...                                        0.000000   \n",
       "25%    ...                                        0.000000   \n",
       "50%    ...                                        0.000000   \n",
       "75%    ...                                        0.000000   \n",
       "max    ...                                       12.000000   \n",
       "\n",
       "       Curricular units 2nd sem (credited)  \\\n",
       "count                          4424.000000   \n",
       "mean                              0.541817   \n",
       "std                               1.918546   \n",
       "min                               0.000000   \n",
       "25%                               0.000000   \n",
       "50%                               0.000000   \n",
       "75%                               0.000000   \n",
       "max                              19.000000   \n",
       "\n",
       "       Curricular units 2nd sem (enrolled)  \\\n",
       "count                          4424.000000   \n",
       "mean                              6.232143   \n",
       "std                               2.195951   \n",
       "min                               0.000000   \n",
       "25%                               5.000000   \n",
       "50%                               6.000000   \n",
       "75%                               7.000000   \n",
       "max                              23.000000   \n",
       "\n",
       "       Curricular units 2nd sem (evaluations)  \\\n",
       "count                             4424.000000   \n",
       "mean                                 8.063291   \n",
       "std                                  3.947951   \n",
       "min                                  0.000000   \n",
       "25%                                  6.000000   \n",
       "50%                                  8.000000   \n",
       "75%                                 10.000000   \n",
       "max                                 33.000000   \n",
       "\n",
       "       Curricular units 2nd sem (approved)  Curricular units 2nd sem (grade)  \\\n",
       "count                          4424.000000                       4424.000000   \n",
       "mean                              4.435805                         10.230206   \n",
       "std                               3.014764                          5.210808   \n",
       "min                               0.000000                          0.000000   \n",
       "25%                               2.000000                         10.750000   \n",
       "50%                               5.000000                         12.200000   \n",
       "75%                               6.000000                         13.333333   \n",
       "max                              20.000000                         18.571429   \n",
       "\n",
       "       Curricular units 2nd sem (without evaluations)  Unemployment rate  \\\n",
       "count                                     4424.000000        4424.000000   \n",
       "mean                                         0.150316          11.566139   \n",
       "std                                          0.753774           2.663850   \n",
       "min                                          0.000000           7.600000   \n",
       "25%                                          0.000000           9.400000   \n",
       "50%                                          0.000000          11.100000   \n",
       "75%                                          0.000000          13.900000   \n",
       "max                                         12.000000          16.200000   \n",
       "\n",
       "       Inflation rate          GDP  \n",
       "count     4424.000000  4424.000000  \n",
       "mean         1.228029     0.001969  \n",
       "std          1.382711     2.269935  \n",
       "min         -0.800000    -4.060000  \n",
       "25%          0.300000    -1.700000  \n",
       "50%          1.400000     0.320000  \n",
       "75%          2.600000     1.790000  \n",
       "max          3.700000     3.510000  \n",
       "\n",
       "[8 rows x 34 columns]"
      ]
     },
     "execution_count": 10,
     "metadata": {},
     "output_type": "execute_result"
    }
   ],
   "source": [
    "df.describe()"
   ]
  },
  {
   "cell_type": "markdown",
   "id": "d8fb7cdb",
   "metadata": {},
   "source": [
    "## 4. RQ1: Which specific predictive factors are linked with student dropout or completion? (Feature selection)"
   ]
  },
  {
   "cell_type": "code",
   "execution_count": 11,
   "id": "a85363ff",
   "metadata": {},
   "outputs": [
    {
     "name": "stdout",
     "output_type": "stream",
     "text": [
      "Target                                    1.000000\n",
      "Curricular units 2nd sem (grade)          0.429214\n",
      "Curricular units 2nd sem (approved)       0.351135\n",
      "Curricular units 1st sem (grade)          0.349652\n",
      "Tuition fees up to date                   0.342121\n",
      "Curricular units 1st sem (approved)       0.290243\n",
      "Curricular units 2nd sem (evaluations)    0.194412\n",
      "Curricular units 1st sem (evaluations)    0.125278\n",
      "Scholarship holder                        0.114517\n",
      "Father's occupation                       0.094916\n",
      "Mother's occupation                       0.077593\n",
      "Name: Target, dtype: float64\n"
     ]
    }
   ],
   "source": [
    "# Research question1 : feature selection\n",
    "# Converting 'Target' column to numeric data\n",
    "df['Target'] = pd.factorize(df['Target'])[0]  \n",
    "# Calculating the correlation between 'Target' and each column\n",
    "corr = df.corr()['Target']\n",
    "# Sorting the correlation values in descending order\n",
    "corr = corr.sort_values(ascending=False)\n",
    "# Printing the top 10 features that have the highest correlation with 'Target'\n",
    "#Drop out refers to 0, Graduate refers to 1 and 2 refers to enrolled in Target column after factorization\n",
    "print(corr.head(11))"
   ]
  },
  {
   "cell_type": "markdown",
   "id": "4844048b",
   "metadata": {},
   "source": [
    "### 4.1 Visualizing the correlation between 'Target' and each column"
   ]
  },
  {
   "cell_type": "code",
   "execution_count": 12,
   "id": "b979bf10",
   "metadata": {},
   "outputs": [
    {
     "data": {
      "image/png": "[encoded data removed]",
      "text/plain": [
       "<Figure size 1080x720 with 1 Axes>"
      ]
     },
     "metadata": {
      "needs_background": "light"
     },
     "output_type": "display_data"
    }
   ],
   "source": [
    "plt.figure(figsize=(15,10))\n",
    "corr.plot(kind='bar',grid=False)\n",
    "plt.xlabel('Features',fontsize=15)\n",
    "plt.ylabel('Correlation with Target Variable',fontsize=15)\n",
    "plt.title('The Correlations of Different Features with Target Variable',fontsize=18)\n",
    "plt.show()"
   ]
  },
  {
   "cell_type": "markdown",
   "id": "bfa647eb",
   "metadata": {},
   "source": [
    "### Observation: \n",
    "Top 10 specific predictive factors/columns those are linked with student dropout or completion (Target column) are\n",
    "Curricular units 2nd sem (grade), Curricular units 2nd sem (approved),Curricular units 1st sem (grade),Tuition fees up to date, \n",
    "Curricular units 1st sem (approved), Curricular units 2nd sem (evaluations), Curricular units 1st sem (evaluations), Scholarship holder, Father's occupation and Mother's occupation. The top 10 predictive factors linked with student dropout or completion are related to academic performance, financial status, and scholarship status. Specifically, a student's performance in the second semester, including their grades and number of approved curricular units, are strongly correlated with dropout or completion. Other factors, such as whether tuition fees are up to date and the occupation of the student's parents, also have some correlation with student success. These findings suggest that these features can be useful in developing a predictive model for identifying at-risk students and taking early interventions to improve retention rates."
   ]
  },
  {
   "cell_type": "markdown",
   "id": "0fa11e04",
   "metadata": {},
   "source": [
    "### 4.2 Considering the Top 10 correlated columns with the Target column"
   ]
  },
  {
   "cell_type": "code",
   "execution_count": 168,
   "id": "c9455ca2",
   "metadata": {},
   "outputs": [
    {
     "data": {
      "text/plain": [
       "(4424, 11)"
      ]
     },
     "execution_count": 168,
     "metadata": {},
     "output_type": "execute_result"
    }
   ],
   "source": [
    "# Creating a list of the top 10 correlated columns\n",
    "top_cols = ['Curricular units 2nd sem (grade)', 'Curricular units 2nd sem (approved)', 'Curricular units 1st sem (grade)', 'Tuition fees up to date', 'Curricular units 1st sem (approved)', 'Curricular units 2nd sem (evaluations)', 'Curricular units 1st sem (evaluations)', 'Scholarship holder', \"Father's occupation\", \"Mother's occupation\"]\n",
    " # keeping only the top columns and the Target column\n",
    "df1 = df[top_cols + ['Target']] #df1 for research question 1\n",
    "df1.shape"
   ]
  },
  {
   "cell_type": "code",
   "execution_count": 169,
   "id": "f4d1ed9a",
   "metadata": {},
   "outputs": [
    {
     "data": {
      "text/plain": [
       "Curricular units 2nd sem (grade)          float64\n",
       "Curricular units 2nd sem (approved)         int64\n",
       "Curricular units 1st sem (grade)          float64\n",
       "Tuition fees up to date                     int64\n",
       "Curricular units 1st sem (approved)         int64\n",
       "Curricular units 2nd sem (evaluations)      int64\n",
       "Curricular units 1st sem (evaluations)      int64\n",
       "Scholarship holder                          int64\n",
       "Father's occupation                         int64\n",
       "Mother's occupation                         int64\n",
       "Target                                      int64\n",
       "dtype: object"
      ]
     },
     "execution_count": 169,
     "metadata": {},
     "output_type": "execute_result"
    }
   ],
   "source": [
    "df1.dtypes"
   ]
  },
  {
   "cell_type": "markdown",
   "id": "9d4c89b2",
   "metadata": {},
   "source": [
    "### Writing to file research q1 dataset"
   ]
  },
  {
   "cell_type": "code",
   "execution_count": 170,
   "id": "0d39b61f",
   "metadata": {},
   "outputs": [],
   "source": [
    "df1.to_csv(\"student-dataset-df1.csv\", header=True,index=False)"
   ]
  },
  {
   "cell_type": "markdown",
   "id": "2e857ce5",
   "metadata": {},
   "source": [
    "## 5. RQ2: Predict how many will drop out or graduate among the enrolled students? (Regression problem)"
   ]
  },
  {
   "cell_type": "code",
   "execution_count": 171,
   "id": "756ea2d9",
   "metadata": {},
   "outputs": [
    {
     "data": {
      "text/plain": [
       "1    2209\n",
       "0    1421\n",
       "2     794\n",
       "Name: Target, dtype: int64"
      ]
     },
     "execution_count": 171,
     "metadata": {},
     "output_type": "execute_result"
    }
   ],
   "source": [
    "#research question2 : Regression problem\n",
    "df1.Target.value_counts()"
   ]
  },
  {
   "cell_type": "code",
   "execution_count": 172,
   "id": "6168ffaa",
   "metadata": {},
   "outputs": [
    {
     "data": {
      "image/png": "[encoded data removed]",
      "text/plain": [
       "<Figure size 720x576 with 1 Axes>"
      ]
     },
     "metadata": {
      "needs_background": "light"
     },
     "output_type": "display_data"
    }
   ],
   "source": [
    "df1[\"Target\"].value_counts().plot(kind=\"bar\", figsize=(10,8), title=\"Target Distribution of Dataset\", fontsize=18)\n",
    "plt.ylabel('Count',fontsize=15)\n",
    "plt.xlabel('Target (0 = Drop out, 1 = Graduated, 2 = Enrolled)',fontsize=15)\n",
    "plt.xticks(rotation=0)\n",
    "plt.show()"
   ]
  },
  {
   "cell_type": "markdown",
   "id": "d7bbff91",
   "metadata": {},
   "source": [
    "Among the 4424 entries in the dataset, 2209 are graduated, 1421 dropped out and  794 are enrolled."
   ]
  },
  {
   "cell_type": "markdown",
   "id": "08a0e9bc",
   "metadata": {},
   "source": [
    "### 5.1 Importing libraries to Train-Test and apply the machine learning models"
   ]
  },
  {
   "cell_type": "code",
   "execution_count": 173,
   "id": "02b9056f",
   "metadata": {},
   "outputs": [],
   "source": [
    "from sklearn.model_selection import train_test_split\n",
    "from sklearn.linear_model import LogisticRegression\n",
    "from sklearn.ensemble import RandomForestClassifier\n",
    "from sklearn.metrics import accuracy_score\n",
    "from sklearn.metrics import confusion_matrix"
   ]
  },
  {
   "cell_type": "markdown",
   "id": "5965cfe0",
   "metadata": {},
   "source": [
    "### 5.2 Preparing the dataset for train-test"
   ]
  },
  {
   "cell_type": "code",
   "execution_count": 174,
   "id": "de234890",
   "metadata": {},
   "outputs": [],
   "source": [
    "#filtering the dataset to include only the enrolled, dropout and graduate students\n",
    "enrolled = df1.loc[df['Target'] == 2]\n",
    "drop_grad = df1.loc[df['Target'] != 2]\n",
    "\n",
    "#selecting the top 10 correlated columns with the Target column from the enrolled dataset\n",
    "enrolled = enrolled.loc[:, ['Curricular units 2nd sem (grade)', 'Curricular units 2nd sem (approved)', 'Curricular units 1st sem (grade)', 'Tuition fees up to date', 'Curricular units 1st sem (approved)', 'Curricular units 2nd sem (evaluations)', 'Curricular units 1st sem (evaluations)', 'Scholarship holder', \"Father's occupation\", \"Mother's occupation\"]]\n",
    "\n",
    "#splitting the dataset into training and testing set\n",
    "X_train, X_test, y_train, y_test = train_test_split(drop_grad.drop('Target', axis=1), drop_grad['Target'], test_size=0.2, random_state=42)\n",
    "#X_train, X_test, y_train, y_test = train_test_split(df1.drop('Target', axis=1), df1['Target'], test_size=0.2, random_state=42)\n"
   ]
  },
  {
   "cell_type": "code",
   "execution_count": 175,
   "id": "840fe415",
   "metadata": {},
   "outputs": [
    {
     "name": "stdout",
     "output_type": "stream",
     "text": [
      "(2904, 10) (726, 10) (2904,) (726,)\n"
     ]
    }
   ],
   "source": [
    "print(\"{} {} {} {}\".format(X_train.shape, X_test.shape,y_train.shape,y_test.shape))"
   ]
  },
  {
   "cell_type": "markdown",
   "id": "f603f6f2",
   "metadata": {},
   "source": [
    "### 5.2.1  Applying Logistic Regression Model"
   ]
  },
  {
   "cell_type": "code",
   "execution_count": 176,
   "id": "c85aef10",
   "metadata": {},
   "outputs": [
    {
     "name": "stdout",
     "output_type": "stream",
     "text": [
      "Number of predicted dropouts among enrolled students (LR): 363\n",
      "Number of predicted graduates among enrolled students (LR): 431\n",
      "Logistic Regression Model Accuracy score: 0.8815426997245179\n"
     ]
    }
   ],
   "source": [
    "#train a logistic regression model on values 0 and 1 in the target column\n",
    "lr_model = LogisticRegression(max_iter=1000)\n",
    "lr_model.fit(X_train, y_train)\n",
    "\n",
    "#test the model on value 2 in the target column to predict how many will drop out or graduate among the enrolled students\n",
    "enrolled_pred = lr_model.predict(enrolled)\n",
    "\n",
    "#count the predicted number of dropouts and graduates\n",
    "dropout_count = len([x for x in enrolled_pred if x == 0])\n",
    "graduate_count = len([x for x in enrolled_pred if x == 1])\n",
    "\n",
    "#print the predicted count of dropouts and graduates\n",
    "print(f\"Number of predicted dropouts among enrolled students (LR): {dropout_count}\")\n",
    "print(f\"Number of predicted graduates among enrolled students (LR): {graduate_count}\")\n",
    "\n",
    "#predict the target values for the test data\n",
    "y_pred = lr_model.predict(X_test)\n",
    "\n",
    "#calculate the accuracy score\n",
    "lr_acc = accuracy_score(y_test, y_pred) #X_train\n",
    "#print the accuracy score\n",
    "print(\"Logistic Regression Model Accuracy score:\", lr_acc)"
   ]
  },
  {
   "cell_type": "markdown",
   "id": "57673cb1",
   "metadata": {},
   "source": [
    "### 5.2.2 Applying Random Forest Classifier model for RQ2"
   ]
  },
  {
   "cell_type": "code",
   "execution_count": 177,
   "id": "0fb41fd6",
   "metadata": {},
   "outputs": [
    {
     "name": "stdout",
     "output_type": "stream",
     "text": [
      "Number of predicted dropouts among enrolled students (RFC): 376\n",
      "Number of predicted graduates among enrolled students (RFC): 418\n",
      "Random Forest Classifier Model Accuracy score: 0.8732782369146006\n"
     ]
    }
   ],
   "source": [
    "#Training a random forest classifier model\n",
    "rf_model = RandomForestClassifier(random_state=42)\n",
    "rf_model.fit(X_train, y_train)\n",
    "\n",
    "#test the model on value 2 in the target column to predict how many will drop out or graduate among the enrolled students\n",
    "enrolled_rf_pred = rf_model.predict(enrolled)\n",
    "\n",
    "#count the predicted number of dropouts and graduates\n",
    "dropout_count = len([x for x in enrolled_rf_pred if x == 0])\n",
    "graduate_count = len([x for x in enrolled_rf_pred if x == 1])\n",
    "\n",
    "#print the predicted count of dropouts and graduates\n",
    "print(f\"Number of predicted dropouts among enrolled students (RFC): {dropout_count}\")\n",
    "print(f\"Number of predicted graduates among enrolled students (RFC): {graduate_count}\") \n",
    "\n",
    "#Testing the random forest classifier model\n",
    "rf_pred = rf_model.predict(X_test)\n",
    "rf_acc = accuracy_score(y_test, rf_pred)\n",
    "print(\"Random Forest Classifier Model Accuracy score:\", rf_acc)"
   ]
  },
  {
   "cell_type": "code",
   "execution_count": 178,
   "id": "d13d6c18",
   "metadata": {},
   "outputs": [
    {
     "name": "stdout",
     "output_type": "stream",
     "text": [
      "Number of actual dropouts among enrolled students: 277\n",
      "Number of actual graduates among enrolled students: 449\n"
     ]
    }
   ],
   "source": [
    "actual_dropout_count = len([x for x in y_test if x == 0])\n",
    "actual_graduate_count = len([x for x in y_test if x == 1])\n",
    "\n",
    "#print the actual count of dropouts and graduates\n",
    "print(f\"Number of actual dropouts among enrolled students: {actual_dropout_count}\")\n",
    "print(f\"Number of actual graduates among enrolled students: {actual_graduate_count}\") #X_test\n"
   ]
  },
  {
   "cell_type": "markdown",
   "id": "47b5ae53",
   "metadata": {},
   "source": [
    "### 5.2.3 Visualizing the accuracy of both models"
   ]
  },
  {
   "cell_type": "code",
   "execution_count": 179,
   "id": "4bc48c94",
   "metadata": {},
   "outputs": [
    {
     "data": {
      "image/png": "[encoded data removed]",
      "text/plain": [
       "<Figure size 432x288 with 1 Axes>"
      ]
     },
     "metadata": {
      "needs_background": "light"
     },
     "output_type": "display_data"
    }
   ],
   "source": [
    "# Define the data for the bar chart\n",
    "models = ['Random Forest', 'Logistic Regression']\n",
    "accuracy_scores = [0.8732782369146006, 0.8815426997245179]\n",
    "\n",
    "# Create a bar chart\n",
    "plt.bar(models, accuracy_scores)\n",
    "\n",
    "# Set the title and axis labels\n",
    "plt.title('Accuracy of Dropout/Graduate Prediction Models')\n",
    "plt.xlabel('Models')\n",
    "plt.ylabel('Accuracy Score')\n",
    "\n",
    "# Show the chart\n",
    "plt.show()"
   ]
  },
  {
   "cell_type": "markdown",
   "id": "0dc4ae8d",
   "metadata": {},
   "source": [
    "### Observation:\n",
    "The accuracy score for the random forest classifier model is 0.873, and the accuracy score for the logistic regression model is 0.882, based on the accuracy score alone, the logistic regression model appears to be a better choice for this specific problem and dataset. However, it's important to note that accuracy is not always the best metric for evaluating model performance, especially in imbalanced datasets where one class may be more prevalent than the others. To properly evaluate and compare the logistic regression model and the random forest classifier model, we can calculate additional evaluation metrics such as precision, recall, and F1 score using cross-validation in the next section."
   ]
  },
  {
   "cell_type": "markdown",
   "id": "b130bf88",
   "metadata": {},
   "source": [
    "### 5.3 Comparing the Performance of Both Models"
   ]
  },
  {
   "cell_type": "code",
   "execution_count": 98,
   "id": "5783f617",
   "metadata": {},
   "outputs": [],
   "source": [
    "from sklearn.model_selection import cross_val_score, StratifiedKFold\n",
    "from sklearn.metrics import classification_report"
   ]
  },
  {
   "cell_type": "code",
   "execution_count": 100,
   "id": "904831e9",
   "metadata": {},
   "outputs": [],
   "source": [
    "# create stratified k-fold cross-validation object\n",
    "skf = StratifiedKFold(n_splits=5, shuffle=True, random_state=42)\n",
    "\n",
    "# calculate cross-validation scores for logistic regression model\n",
    "lr_scores = cross_val_score(lr_model, X_train, y_train, cv=skf, scoring='f1_macro')\n",
    "\n",
    "# calculate cross-validation scores for random forest classifier model\n",
    "rfc_scores = cross_val_score(rf_model, X_train, y_train, cv=skf, scoring='f1_macro')\n"
   ]
  },
  {
   "cell_type": "code",
   "execution_count": 101,
   "id": "3231a805",
   "metadata": {},
   "outputs": [
    {
     "name": "stdout",
     "output_type": "stream",
     "text": [
      "Logistic Regression Model Cross-Validation Scores:\n",
      "Mean: 0.8824349356290384\n",
      "Standard Deviation: 0.011574154904920744\n",
      "\n",
      "Random Forest Classifier Model Cross-Validation Scores:\n",
      "Mean: 0.8841847287130629\n",
      "Standard Deviation: 0.010198159057188138\n"
     ]
    }
   ],
   "source": [
    "# print mean and standard deviation of cross-validation scores for logistic regression model\n",
    "print(\"Logistic Regression Model Cross-Validation Scores:\")\n",
    "print(\"Mean:\", lr_scores.mean())\n",
    "print(\"Standard Deviation:\", lr_scores.std())\n",
    "\n",
    "# print mean and standard deviation of cross-validation scores for random forest classifier model\n",
    "print(\"\\nRandom Forest Classifier Model Cross-Validation Scores:\")\n",
    "print(\"Mean:\", rfc_scores.mean())\n",
    "print(\"Standard Deviation:\", rfc_scores.std())"
   ]
  },
  {
   "cell_type": "markdown",
   "id": "9c62e020",
   "metadata": {},
   "source": [
    "#### Observation\n",
    "The cross-validation scores of both the logistic regression model and the random forest classifier model show that the models have a relatively high accuracy in predicting the target variable. The mean of the cross-validation scores for the logistic regression model is 0.8824 and for the random forest classifier model is 0.8842. The standard deviation for both models is relatively low, with the logistic regression model having a standard deviation of 0.0116 and the random forest classifier model having a standard deviation of 0.0102.\n",
    "\n",
    "These results suggest that both models have relatively consistent performance across different subsets of the data used for training and testing, and the difference in accuracy between the two models is relatively small. However, it's important to note that the behavior of the models may vary depending on the specific dataset and problem being addressed, and further testing and evaluation may be necessary to ensure that the models are appropriate for the specific problem at hand."
   ]
  },
  {
   "cell_type": "markdown",
   "id": "bfc86ae1",
   "metadata": {},
   "source": [
    "### 5.3.1 Classification Report and Confusion Matrix"
   ]
  },
  {
   "cell_type": "code",
   "execution_count": 180,
   "id": "9defda1c",
   "metadata": {},
   "outputs": [
    {
     "name": "stdout",
     "output_type": "stream",
     "text": [
      "\n",
      "Logistic Regression Model Classification Report:\n",
      "              precision    recall  f1-score   support\n",
      "\n",
      "           0       0.87      0.81      0.84       277\n",
      "           1       0.89      0.93      0.91       449\n",
      "\n",
      "    accuracy                           0.88       726\n",
      "   macro avg       0.88      0.87      0.87       726\n",
      "weighted avg       0.88      0.88      0.88       726\n",
      "\n"
     ]
    },
    {
     "data": {
      "image/png": "[encoded data removed]",
      "text/plain": [
       "<Figure size 432x288 with 2 Axes>"
      ]
     },
     "metadata": {
      "needs_background": "light"
     },
     "output_type": "display_data"
    },
    {
     "name": "stdout",
     "output_type": "stream",
     "text": [
      "Logistic Regression Model Confusion Matrix:\n",
      " [[224  53]\n",
      " [ 33 416]]\n"
     ]
    }
   ],
   "source": [
    "# predict test data with logistic regression model\n",
    "y_pred_lr = lr_model.predict(X_test)\n",
    "\n",
    "# print classification report for logistic regression model\n",
    "print(\"\\nLogistic Regression Model Classification Report:\")\n",
    "print(classification_report(y_test, y_pred_lr))\n",
    "\n",
    "# visualizing the model using cm\n",
    "# Generate the confusion matrix\n",
    "cmLR = confusion_matrix(y_test, y_pred_lr)\n",
    "\n",
    "# Plot the confusion matrix\n",
    "sns.heatmap(cm, annot=True, cmap=\"Blues\", fmt=\"d\", xticklabels=['Graduate', 'Drop out'], yticklabels=['Graduate', 'Drop out'])\n",
    "plt.title(\"Confusion Matrix\")\n",
    "plt.xlabel(\"Predicted Label\")\n",
    "plt.ylabel(\"True Label\")\n",
    "plt.show()\n",
    "\n",
    "print(\"Logistic Regression Model Confusion Matrix:\\n\", cmLR)"
   ]
  },
  {
   "cell_type": "code",
   "execution_count": 134,
   "id": "a713a8f6",
   "metadata": {},
   "outputs": [
    {
     "data": {
      "text/plain": [
       "(726, 10)"
      ]
     },
     "execution_count": 134,
     "metadata": {},
     "output_type": "execute_result"
    }
   ],
   "source": [
    "X_test.shape"
   ]
  },
  {
   "cell_type": "markdown",
   "id": "0e9568e0",
   "metadata": {},
   "source": [
    "Confusion matrix presents following results The number of Actual Drop out students incorrectly predicted as Graduate = 33 The number of Actual Drop out students correctly predicted as Drop out students = 416 The number of Actual Graduate students incorrectly predicted as Drop out = 53 The number of Actual Graduate students correctly predicted as Graduate = 224"
   ]
  },
  {
   "cell_type": "code",
   "execution_count": 181,
   "id": "54c3d343",
   "metadata": {},
   "outputs": [
    {
     "name": "stdout",
     "output_type": "stream",
     "text": [
      "\n",
      "Random Forest Classifier Model Classification Report:\n",
      "              precision    recall  f1-score   support\n",
      "\n",
      "           0       0.87      0.79      0.83       277\n",
      "           1       0.88      0.92      0.90       449\n",
      "\n",
      "    accuracy                           0.87       726\n",
      "   macro avg       0.87      0.86      0.86       726\n",
      "weighted avg       0.87      0.87      0.87       726\n",
      "\n"
     ]
    },
    {
     "data": {
      "image/png": "[encoded data removed]",
      "text/plain": [
       "<Figure size 432x288 with 2 Axes>"
      ]
     },
     "metadata": {
      "needs_background": "light"
     },
     "output_type": "display_data"
    },
    {
     "name": "stdout",
     "output_type": "stream",
     "text": [
      "Random Forest Classifier Model Confusion Matrix:\n",
      " [[219  58]\n",
      " [ 34 415]]\n"
     ]
    }
   ],
   "source": [
    "# predict test data with random forest classifier model\n",
    "y_pred_rfc = rf_model.predict(X_test)\n",
    "\n",
    "# print classification report for random forest classifier model\n",
    "print(\"\\nRandom Forest Classifier Model Classification Report:\")\n",
    "print(classification_report(y_test, y_pred_rfc))\n",
    "\n",
    "# visualizing the model using cm\n",
    "# Generate the confusion matrix\n",
    "cmRF = confusion_matrix(y_test, y_pred_rfc)\n",
    "\n",
    "# Plot the confusion matrix\n",
    "sns.heatmap(cm, annot=True, cmap=\"Blues\", fmt=\"d\", xticklabels=['Graduate', 'Drop out'], yticklabels=['Graduate', 'Drop out'])\n",
    "plt.title(\"Confusion Matrix\")\n",
    "plt.xlabel(\"Predicted Label\")\n",
    "plt.ylabel(\"True Label\")\n",
    "plt.show()\n",
    "\n",
    "print(\"Random Forest Classifier Model Confusion Matrix:\\n\", cmRF)"
   ]
  },
  {
   "cell_type": "markdown",
   "id": "f1fd10ad",
   "metadata": {},
   "source": [
    "Confusion matrix presents following results The number of Actual Drop out students incorrectly predicted as Graduate = 34 The number of Actual Drop out students correctly predicted as Drop out students = 415 The number of Actual Graduate students incorrectly predicted as Drop out = 58 The number of Actual Graduate students correctly predicted as Graduate = 219"
   ]
  },
  {
   "cell_type": "markdown",
   "id": "d4cc503b",
   "metadata": {},
   "source": [
    "### Observation:\n",
    "\n",
    "The classification report provides a more detailed evaluation of the performance of the logistic regression and random forest classifier models. It includes precision, recall, and F1-score for both target values, 0 and 1.\n",
    "\n",
    "For the logistic regression model, the precision for target value 0 is 0.87, which means that out of all the predicted 0 values, 87% were actually 0. The recall for target value 0 is 0.81, which means that out of all the actual 0 values, 81% were correctly predicted as 0. The F1-score for target value 0 is 0.84, which is the harmonic mean of precision and recall. Overall, the logistic regression model has good precision, recall, and F1-score for both target values, indicating that it is performing well.\n",
    "\n",
    "For the random forest classifier model, the precision for target value 0 is also 0.87, which means that out of all the predicted 0 values, 87% were actually 0. The recall for target value 0 is 0.79, which means that out of all the actual 0 values, only 79% were correctly predicted as 0. The F1-score for target value 0 is 0.83, which is slightly lower than the logistic regression model. Overall, the random forest classifier model also has good precision, recall, and F1-score for both target values, but not as good as the logistic regression model.\n",
    "\n",
    "#### Confusion Matrix Observation:\n",
    "\n",
    "The confusion matrix is a performance measurement tool that summarizes the classification results from the model's predictions on the test dataset. It shows how well the model's predicted values match the actual values.\n",
    "\n",
    "Looking at the confusion matrix for the Random Forest Classifier Model, it correctly predicted 219 out of 277 actual dropouts, and 415 out of 449 actual graduates. However, it incorrectly predicted 58 actual graduates as dropouts and 34 actual dropouts as graduates. On the other hand, for the Logistic Regression Model, it correctly predicted 224 out of 277 actual dropouts, and 416 out of 449 actual graduates. However, it incorrectly predicted 53 actual graduates as dropouts and 33 actual dropouts as graduates.\n",
    "\n",
    "The confusion matrix shows how well the models predicted the actual values. The logistic regression model had a higher number of true positives and a lower number of false positives and false negatives than the random forest classifier model, indicating better performance. The logistic regression model correctly predicted more dropouts and graduates, while the random forest classifier model had more incorrect predictions. Therefore, the logistic regression model is a better predictor of student dropout and graduation rates than the random forest classifier model."
   ]
  },
  {
   "cell_type": "markdown",
   "id": "37951159",
   "metadata": {},
   "source": [
    "#### 5.3.1.1 Chi-square test on the confusion matrix for both models"
   ]
  },
  {
   "cell_type": "code",
   "execution_count": 182,
   "id": "3aced96a",
   "metadata": {},
   "outputs": [
    {
     "name": "stdout",
     "output_type": "stream",
     "text": [
      "Chi-square test results:\n",
      "Logistic Regression Model chi-square value:  401.6745286440447\n",
      "Logistic Regression Model p-value:  2.379100004388868e-89\n",
      "Random Forest Classifier Model chi-square value:  382.47757729515445\n",
      "Random Forest Classifier Model p-value:  3.5938362666914465e-85\n"
     ]
    }
   ],
   "source": [
    "from scipy.stats import chi2_contingency\n",
    "\n",
    "# Confusion matrix for Logistic Regression Model\n",
    "LR_confusion_matrix = cmLR\n",
    "\n",
    "# Confusion matrix for Random Forest Classifier Model\n",
    "RFC_confusion_matrix = cmRF\n",
    "# Perform chi-square test on Logistic Regression Model confusion matrix\n",
    "chi2_LR, p_LR, dof_LR, expected_LR = chi2_contingency(LR_confusion_matrix)\n",
    "\n",
    "# Perform chi-square test on Random Forest Classifier Model confusion matrix\n",
    "chi2_RFC, p_RFC, dof_RFC, expected_RFC = chi2_contingency(RFC_confusion_matrix)\n",
    "\n",
    "print(\"Chi-square test results:\")\n",
    "print(\"Logistic Regression Model chi-square value: \", chi2_LR)\n",
    "print(\"Logistic Regression Model p-value: \", p_LR)\n",
    "print(\"Random Forest Classifier Model chi-square value: \", chi2_RFC)\n",
    "print(\"Random Forest Classifier Model p-value: \", p_RFC)\n"
   ]
  },
  {
   "cell_type": "markdown",
   "id": "2af4fe8a",
   "metadata": {},
   "source": [
    "### Conclusion Based on Chi-Square Test "
   ]
  },
  {
   "cell_type": "markdown",
   "id": "753402ab",
   "metadata": {},
   "source": [
    "The chi-square test was used to compare the performance of two classification models in predicting student dropout and graduation rates. The chi-square test results show that the chi-square value for the Logistic Regression Model is 401.67 with a p-value of 2.379 x 10^-89, and for the Random Forest Classifier Model, the chi-square value is 382.48 with a p-value of 3.59 x 10^-85. These p-values are very small, indicating that there is a significant difference between the two models in terms of their ability to predict student dropout and graduation rates. The Logistic Regression Model performed significantly better than the Random Forest Classifier Model. The results suggest that both models are effective, but Logistic Regression may be a better choice in this scenario."
   ]
  },
  {
   "cell_type": "code",
   "execution_count": 106,
   "id": "b55ef27b",
   "metadata": {},
   "outputs": [
    {
     "data": {
      "text/plain": [
       "['student_retention_lr_model.joblib']"
      ]
     },
     "execution_count": 106,
     "metadata": {},
     "output_type": "execute_result"
    }
   ],
   "source": [
    "#saving the trained model for future use\n",
    "import joblib\n",
    "# save the model to a file\n",
    "joblib.dump(lr_model, 'student_retention_lr_model.joblib')"
   ]
  },
  {
   "cell_type": "code",
   "execution_count": 107,
   "id": "f2b7b9bd",
   "metadata": {},
   "outputs": [
    {
     "data": {
      "text/plain": [
       "['student_retention_rf_model.joblib']"
      ]
     },
     "execution_count": 107,
     "metadata": {},
     "output_type": "execute_result"
    }
   ],
   "source": [
    "# save the model to a file\n",
    "joblib.dump(rf_model, 'student_retention_rf_model.joblib')"
   ]
  },
  {
   "cell_type": "code",
   "execution_count": null,
   "id": "29173960",
   "metadata": {},
   "outputs": [],
   "source": []
  }
 ],
 "metadata": {
  "kernelspec": {
   "display_name": "Python 3 (ipykernel)",
   "language": "python",
   "name": "python3"
  },
  "language_info": {
   "codemirror_mode": {
    "name": "ipython",
    "version": 3
   },
   "file_extension": ".py",
   "mimetype": "text/x-python",
   "name": "python",
   "nbconvert_exporter": "python",
   "pygments_lexer": "ipython3",
   "version": "3.8.8"
  }
 },
 "nbformat": 4,
 "nbformat_minor": 5
}
